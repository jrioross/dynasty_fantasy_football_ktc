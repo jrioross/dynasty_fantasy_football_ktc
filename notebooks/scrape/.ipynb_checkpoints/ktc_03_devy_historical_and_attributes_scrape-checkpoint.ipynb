{
 "cells": [
  {
   "cell_type": "markdown",
   "id": "991a6e47",
   "metadata": {},
   "source": [
    "# Imports"
   ]
  },
  {
   "cell_type": "code",
   "execution_count": 1,
   "id": "57e806d3",
   "metadata": {},
   "outputs": [],
   "source": [
    "import re\n",
    "import requests\n",
    "import pandas as pd\n",
    "import numpy as np\n",
    "from bs4 import BeautifulSoup as BS\n",
    "from selenium import webdriver\n",
    "from selenium.webdriver.common.keys import Keys\n",
    "from selenium.webdriver.common.by import By\n",
    "import time\n",
    "from datetime import date, datetime, timedelta"
   ]
  },
  {
   "cell_type": "markdown",
   "id": "0931f297",
   "metadata": {},
   "source": [
    "# Create yesterday and today variables"
   ]
  },
  {
   "cell_type": "code",
   "execution_count": 2,
   "id": "31b82ddd",
   "metadata": {},
   "outputs": [],
   "source": [
    "yesterday = date.today()-timedelta(days=1)\n",
    "today = date.today()"
   ]
  },
  {
   "cell_type": "markdown",
   "id": "89a36126",
   "metadata": {},
   "source": [
    "# Scrape current rankings, then save to csv"
   ]
  },
  {
   "cell_type": "code",
   "execution_count": 3,
   "id": "bba61c39",
   "metadata": {},
   "outputs": [],
   "source": [
    "url = 'https://keeptradecut.com/devy-rankings?page=0&filters=QB|WR|RB|TE&format=2'\n",
    "response = requests.get(url)\n",
    "rankingsSoup = BS(response.content)\n",
    "\n",
    "# Readable construction of dynasty-rankings dataframe\n",
    "\n",
    "# values lists\n",
    "rank_list = []\n",
    "player_list = []\n",
    "playerhref_list = []\n",
    "positionrank_list = []\n",
    "schoolabv_list = []\n",
    "overalltier_list = []\n",
    "value_list = []\n",
    "\n",
    "# Relevant divs\n",
    "playerlines = rankingsSoup.find_all('div', 'onePlayer')\n",
    "\n",
    "for playerline in playerlines:\n",
    "    \n",
    "    # Grab current line's relevant player data\n",
    "    rank = int(playerline.find('div', {'class':'rank-number'}).find('p').text)\n",
    "    player = playerline.find('a').text\n",
    "    playerhref = 'https://keeptradecut.com'+playerline.find('a')['href']\n",
    "    positionrank = playerline.find('p', {'class':'position'}).text\n",
    "    schoolabv = playerline.find('span', {'class' : 'player-team'}).text\n",
    "    overalltier = playerline.find('div', 'player-info').find('p').text\n",
    "    value = int(playerline.find('div', {'class':'value'}).find('p').text)\n",
    "    \n",
    "    # Append current line's data to value lists\n",
    "    rank_list.append(rank)\n",
    "    player_list.append(player)\n",
    "    playerhref_list.append(playerhref)\n",
    "    positionrank_list.append(positionrank)\n",
    "    schoolabv_list.append(schoolabv)\n",
    "    overalltier_list.append(overalltier)\n",
    "    value_list.append(value)\n",
    "    \n",
    "# dict for df construction\n",
    "rankings_dict = {\n",
    "    'rank':rank_list,\n",
    "    'player':player_list,\n",
    "    'playerhref':playerhref_list,\n",
    "    'positionrank':positionrank_list,\n",
    "    'schoolabv':schoolabv_list,\n",
    "    'overalltier':overalltier_list,\n",
    "    'value':value_list\n",
    "}\n",
    "\n",
    "# Convert to DataFrame\n",
    "devy_ranks = pd.DataFrame(rankings_dict)\n",
    "devy_ranks['date'] = today"
   ]
  },
  {
   "cell_type": "code",
   "execution_count": 4,
   "id": "ff354046",
   "metadata": {},
   "outputs": [],
   "source": [
    "# write to csv with date labelling\n",
    "devy_ranks.to_csv(f'../../data/ktc_historical_devy_ranks.csv', index = False)"
   ]
  },
  {
   "cell_type": "markdown",
   "id": "3fdd3554",
   "metadata": {},
   "source": [
    "# Player page scrapes"
   ]
  },
  {
   "cell_type": "code",
   "execution_count": 5,
   "id": "c92a1329",
   "metadata": {},
   "outputs": [
    {
     "name": "stderr",
     "output_type": "stream",
     "text": [
      "<ipython-input-5-78cf9ffca503>:11: DeprecationWarning: executable_path has been deprecated, please pass in a Service object\n",
      "  driver = webdriver.Firefox(executable_path=r'C:/Users/jrior/.ipython/drivers/geckodriver.exe')\n"
     ]
    }
   ],
   "source": [
    "player_attributes_list = []\n",
    "player_value_history_list = []\n",
    "dr_no_picks = devy_ranks.loc[~devy_ranks['player'].str.contains(r'\\d{4}'), ['player', 'playerhref']]\n",
    "for ind, row in dr_no_picks.iterrows():\n",
    "    \n",
    "    # save variables from dynasty_ranks\n",
    "    player = row['player']\n",
    "    href = row['playerhref']\n",
    "    \n",
    "    # open selenium and go to player's href page, click \"All Time\", and get page content for soup\n",
    "    driver = webdriver.Firefox(executable_path=r'C:/Users/jrior/.ipython/drivers/geckodriver.exe')\n",
    "    driver.get(f\"{href}\")\n",
    "    alltime = driver.find_element(By.ID, \"all-time\")\n",
    "    try:\n",
    "        alltime.click()\n",
    "    except:\n",
    "        dontknow = driver.find_element(By.ID, \"dont-know\")\n",
    "        dontknow.click()\n",
    "        alltime.click()\n",
    "    content = driver.page_source\n",
    "    driver.close()\n",
    "\n",
    "    # make the soup\n",
    "    soup = BS(content)\n",
    "\n",
    "    # get player measurables and append to list\n",
    "    card = soup.find('div', {'class':'pd-measurables devy-measurables'})\n",
    "    player_attributes = pd.DataFrame({\n",
    "                                     'name':[f'{player}' for rowtitle in card.find_all('p', {'class':'row-title'})],\n",
    "                                     'attribute':[rowtitle.text.strip('\\n\\t') for rowtitle in card.find_all('p', {'class':'row-title'})],\n",
    "                                     'value':[rowvalue.text.strip('\\n\\t') for rowvalue in card.find_all('p', {'class':'row-value'})]\n",
    "                                    })\n",
    "    player_attributes_list.append(player_attributes)\n",
    "\n",
    "    # get player value history and append to list\n",
    "    valgraphsoup = soup.find(\"div\", {\"id\":\"pd-value-graph\"})\n",
    "    hovergroups = valgraphsoup.find_all(\"g\", {\"class\":\"hoverGroup\"})\n",
    "    player_value_history = pd.DataFrame({\n",
    "                                         'name':[f'{player}' for hg in hovergroups],\n",
    "                                         'date':[hg.find(\"text\", {\"class\":\"hoverDate\"}).text for hg in hovergroups],\n",
    "                                         'value':[hg.find(\"text\", {\"class\":\"graphVal hoverVal\"}).text for hg in hovergroups]\n",
    "                                        })\n",
    "    player_value_history_list.append(player_value_history)\n",
    "    \n",
    "    if (ind+1)%50 == 0:\n",
    "        time.sleep(10)\n",
    "    else:\n",
    "        pass"
   ]
  },
  {
   "cell_type": "markdown",
   "id": "27b5aef4",
   "metadata": {},
   "source": [
    "# Concatenate attributes and historical values, respectively, then save to csv"
   ]
  },
  {
   "cell_type": "code",
   "execution_count": 13,
   "id": "2e258e03",
   "metadata": {},
   "outputs": [],
   "source": [
    "# concatenate the attributes dfs together and use strip() to clean off \\n from entries\n",
    "attributes = pd.concat(player_attributes_list)\n",
    "for col in ['attribute', 'value']:\n",
    "    attributes[col] = attributes[col].str.strip()\n",
    "\n",
    "# concatenate the historical values together\n",
    "historical_values = pd.concat(player_value_history_list)\n",
    "\n",
    "# convert date column to datetime\n",
    "historical_values['date'] = pd.to_datetime(historical_values['date'])\n",
    "\n",
    "# drop duplicate player-date pairs from historical values (meaning only keep the first entry of today's player-date pairs)\n",
    "historical_values_clean = historical_values.drop_duplicates(subset = ['name', 'date'], keep = 'first')\n",
    "\n",
    "# write each df to csv with date labelling\n",
    "attributes.to_csv(f'../../data/ktc_devy_player_attributes.csv', index = False)\n",
    "historical_values_clean.to_csv(f'../../data/ktc_historical_devy_values.csv', index = False)"
   ]
  }
 ],
 "metadata": {
  "kernelspec": {
   "display_name": "Python 3",
   "language": "python",
   "name": "python3"
  },
  "language_info": {
   "codemirror_mode": {
    "name": "ipython",
    "version": 3
   },
   "file_extension": ".py",
   "mimetype": "text/x-python",
   "name": "python",
   "nbconvert_exporter": "python",
   "pygments_lexer": "ipython3",
   "version": "3.8.8"
  }
 },
 "nbformat": 4,
 "nbformat_minor": 5
}
