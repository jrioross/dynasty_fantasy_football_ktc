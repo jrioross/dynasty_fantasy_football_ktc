{
 "cells": [
  {
   "cell_type": "markdown",
   "id": "514ae16c",
   "metadata": {},
   "source": [
    "# Imports"
   ]
  },
  {
   "cell_type": "code",
   "execution_count": 1,
   "id": "d6ad8431",
   "metadata": {},
   "outputs": [],
   "source": [
    "import pandas as pd\n",
    "from datetime import date, datetime, timedelta\n",
    "import requests\n",
    "from bs4 import BeautifulSoup as BS"
   ]
  },
  {
   "cell_type": "markdown",
   "id": "5ffbf0a6",
   "metadata": {},
   "source": [
    "# Create yesterday and today variables"
   ]
  },
  {
   "cell_type": "code",
   "execution_count": 2,
   "id": "6c07ce0e",
   "metadata": {},
   "outputs": [],
   "source": [
    "yesterday = date.today()-timedelta(days=1)\n",
    "today = date.today()"
   ]
  },
  {
   "cell_type": "markdown",
   "id": "086f19a8",
   "metadata": {},
   "source": [
    "# Scrape current rankings"
   ]
  },
  {
   "cell_type": "code",
   "execution_count": 3,
   "id": "e0c28735",
   "metadata": {},
   "outputs": [],
   "source": [
    "url = 'https://keeptradecut.com/devy-rankings?page=0&filters=QB|WR|RB|TE&format=2'\n",
    "response = requests.get(url)\n",
    "rankingsSoup = BS(response.content)\n",
    "\n",
    "# Readable construction of dynasty-rankings dataframe\n",
    "\n",
    "# values lists\n",
    "rank_list = []\n",
    "player_list = []\n",
    "playerhref_list = []\n",
    "positionrank_list = []\n",
    "schoolabv_list = []\n",
    "overalltier_list = []\n",
    "value_list = []\n",
    "\n",
    "# Relevant divs\n",
    "playerlines = rankingsSoup.find_all('div', 'onePlayer')\n",
    "\n",
    "for playerline in playerlines:\n",
    "    \n",
    "    # Grab current line's relevant player data\n",
    "    rank = int(playerline.find('div', {'class':'rank-number'}).find('p').text)\n",
    "    player = playerline.find('a').text\n",
    "    playerhref = 'https://keeptradecut.com'+playerline.find('a')['href']\n",
    "    positionrank = playerline.find('p', {'class':'position'}).text\n",
    "    schoolabv = playerline.find('span', {'class' : 'player-team'}).text\n",
    "    overalltier = playerline.find('div', 'player-info').find('p').text\n",
    "    value = int(playerline.find('div', {'class':'value'}).find('p').text)\n",
    "    \n",
    "    # Append current line's data to value lists\n",
    "    rank_list.append(rank)\n",
    "    player_list.append(player)\n",
    "    playerhref_list.append(playerhref)\n",
    "    positionrank_list.append(positionrank)\n",
    "    schoolabv_list.append(schoolabv)\n",
    "    overalltier_list.append(overalltier)\n",
    "    value_list.append(value)\n",
    "    \n",
    "# dict for df construction\n",
    "rankings_dict = {\n",
    "    'rank':rank_list,\n",
    "    'player':player_list,\n",
    "    'playerhref':playerhref_list,\n",
    "    'positionrank':positionrank_list,\n",
    "    'schoolabv':schoolabv_list,\n",
    "    'overalltier':overalltier_list,\n",
    "    'value':value_list\n",
    "}\n",
    "\n",
    "# Convert to DataFrame\n",
    "current_devy_ranks = pd.DataFrame(rankings_dict)"
   ]
  },
  {
   "cell_type": "markdown",
   "id": "532208b0",
   "metadata": {},
   "source": [
    "# Add date column labelling today"
   ]
  },
  {
   "cell_type": "code",
   "execution_count": 4,
   "id": "864215a8",
   "metadata": {},
   "outputs": [],
   "source": [
    "current_devy_ranks['date'] = today + timedelta(days = 1)"
   ]
  },
  {
   "cell_type": "markdown",
   "id": "5f62b76e",
   "metadata": {},
   "source": [
    "# Create historical values df, append new dynasty ranks and historical values to respective CSVs"
   ]
  },
  {
   "cell_type": "code",
   "execution_count": 5,
   "id": "38558764",
   "metadata": {},
   "outputs": [],
   "source": [
    "current_values = current_devy_ranks[['player', 'date', 'value']]\n",
    "\n",
    "current_devy_ranks.to_csv(f'../../data/ktc_historical_devy_ranks.csv', \n",
    "                          mode = 'a', \n",
    "                          index = False, \n",
    "                          header = False\n",
    "                         )\n",
    "current_values.to_csv(f'../../data/ktc_historical_devy_values.csv', \n",
    "                      mode = 'a', \n",
    "                      index = False, \n",
    "                      header = False\n",
    "                     )"
   ]
  }
 ],
 "metadata": {
  "kernelspec": {
   "display_name": "Python 3",
   "language": "python",
   "name": "python3"
  },
  "language_info": {
   "codemirror_mode": {
    "name": "ipython",
    "version": 3
   },
   "file_extension": ".py",
   "mimetype": "text/x-python",
   "name": "python",
   "nbconvert_exporter": "python",
   "pygments_lexer": "ipython3",
   "version": "3.8.8"
  }
 },
 "nbformat": 4,
 "nbformat_minor": 5
}
