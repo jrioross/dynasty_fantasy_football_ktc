{
 "cells": [
  {
   "cell_type": "code",
   "execution_count": 1,
   "id": "669667c2",
   "metadata": {},
   "outputs": [],
   "source": [
    "import nest_asyncio\n",
    "nest_asyncio.apply()\n",
    "from bs4 import BeautifulSoup\n",
    "import pyppeteer\n",
    "import asyncio"
   ]
  },
  {
   "cell_type": "code",
   "execution_count": 2,
   "id": "be3fc6d1",
   "metadata": {},
   "outputs": [],
   "source": [
    "#URL = 'https://keeptradecut.com/dynasty-rankings/players/jonathan-taylor-634'\n",
    "URL = 'https://www.python.org/'\n",
    "\n",
    "async def main():\n",
    "    browser = await pyppeteer.launch(headless = False)\n",
    "    page = await browser.newPage()\n",
    "    await page.goto(URL)\n",
    "\n",
    "    # Click on the All Time button\n",
    "#     selector = '#all-time'\n",
    "#     await page.click(selector)\n",
    "    cont = await page.content()\n",
    "    return cont"
   ]
  },
  {
   "cell_type": "code",
   "execution_count": null,
   "id": "703fbbe1",
   "metadata": {},
   "outputs": [],
   "source": [
    "res = asyncio.get_event_loop().run_until_complete(main())"
   ]
  },
  {
   "cell_type": "code",
   "execution_count": null,
   "id": "e2eacf5d",
   "metadata": {},
   "outputs": [],
   "source": [
    "# Extracting out the data values from the hoverGroups.\n",
    "soup = BeautifulSoup(res)"
   ]
  },
  {
   "cell_type": "code",
   "execution_count": null,
   "id": "7033ca50",
   "metadata": {},
   "outputs": [],
   "source": [
    "[x.text for x in soup.findAll('g', {'class': 'hoverGroup'})] "
   ]
  }
 ],
 "metadata": {
  "kernelspec": {
   "display_name": "Python 3",
   "language": "python",
   "name": "python3"
  },
  "language_info": {
   "codemirror_mode": {
    "name": "ipython",
    "version": 3
   },
   "file_extension": ".py",
   "mimetype": "text/x-python",
   "name": "python",
   "nbconvert_exporter": "python",
   "pygments_lexer": "ipython3",
   "version": "3.8.8"
  }
 },
 "nbformat": 4,
 "nbformat_minor": 5
}
